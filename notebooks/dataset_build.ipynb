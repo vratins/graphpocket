{
 "cells": [
  {
   "cell_type": "code",
   "execution_count": 1,
   "metadata": {},
   "outputs": [],
   "source": [
    "from pathlib import Path\n",
    "import pickle\n",
    "from typing import Dict, List, Union\n",
    "import math\n",
    "\n",
    "import dgl\n",
    "from dgl.dataloading import GraphDataLoader\n",
    "import torch"
   ]
  },
  {
   "cell_type": "code",
   "execution_count": 3,
   "metadata": {},
   "outputs": [],
   "source": [
    "class PocketDataset(dgl.data.DGLDataset):\n",
    "\n",
    "    def __init__(self, name: str,\n",
    "                 processed_data_file: str,\n",
    "                 rec_elements = List[str],\n",
    "                 receptor_k: int = 3,\n",
    "                 load_data: bool = True,\n",
    "                 **kwawrgs):\n",
    "        \n",
    "        self.load_data = load_data\n",
    "\n",
    "        self.data_file: Path = Path(processed_data_file)\n",
    "\n",
    "        self.rec_elements = rec_elements\n",
    "        self.rec_element_map: Dict[str, int] = { element: idx for idx, element in enumerate(self.rec_elements) }\n",
    "        self.rec_element_map['other'] = len(self.rec_elements)\n",
    "\n",
    "        super().__init__(name=name)\n",
    "\n",
    "    \n",
    "\n",
    "    \n"
   ]
  },
  {
   "cell_type": "code",
   "execution_count": null,
   "metadata": {},
   "outputs": [],
   "source": []
  }
 ],
 "metadata": {
  "kernelspec": {
   "display_name": "base",
   "language": "python",
   "name": "python3"
  },
  "language_info": {
   "codemirror_mode": {
    "name": "ipython",
    "version": 3
   },
   "file_extension": ".py",
   "mimetype": "text/x-python",
   "name": "python",
   "nbconvert_exporter": "python",
   "pygments_lexer": "ipython3",
   "version": "3.11.3"
  },
  "orig_nbformat": 4
 },
 "nbformat": 4,
 "nbformat_minor": 2
}

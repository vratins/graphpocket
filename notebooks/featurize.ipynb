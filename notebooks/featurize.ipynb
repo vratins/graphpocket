{
 "cells": [
  {
   "cell_type": "markdown",
   "metadata": {},
   "source": [
    "- Script to featurize pockets and create receptor graphs"
   ]
  },
  {
   "cell_type": "code",
   "execution_count": 1,
   "metadata": {},
   "outputs": [],
   "source": [
    "from pathlib import Path\n",
    "import prody\n",
    "import numpy as np\n",
    "import torch\n",
    "import dgl\n",
    "\n",
    "from typing import Iterable, Union, List, Dict\n",
    "\n",
    "class Unparsable(Exception):\n",
    "    pass\n",
    "\n",
    "#processing code adapted from Ian Dunn: https://github.com/Dunni3/keypoint-diffusion/blob/main/data_processing/pdbbind_processing.py"
   ]
  },
  {
   "cell_type": "code",
   "execution_count": 2,
   "metadata": {},
   "outputs": [],
   "source": [
    "#function to parse the receptors\n",
    "def parse_pocket(pocket_path): #reads in pdb file of a receptor(binding pocket) into a prody AtomGroup\n",
    "    \n",
    "    receptor = prody.parsePDB(str(pocket_path))\n",
    "\n",
    "    if receptor is None: #errors in reading in a pocket\n",
    "        raise Unparsable\n",
    "    \n",
    "    return receptor\n",
    "\n",
    "#function to return atom positions, features\n",
    "def get_pocket_atoms(rec_atoms, element_map):\n",
    "\n",
    "    #position, features and indices for all pocket atoms\n",
    "    rec_atom_positions = rec_atoms.getCoords()\n",
    "    rec_atom_features, other_atoms_mask = receptor_featurizer(element_map=element_map, rec_atoms=rec_atoms)\n",
    "\n",
    "    #convert positions and features to tensors\n",
    "    rec_atom_positions = torch.tensor(rec_atom_positions).float()\n",
    "    rec_atom_features = torch.tensor(rec_atom_features).float()\n",
    "\n",
    "    # remove \"other\" atoms from the receptor\n",
    "    rec_atom_positions = rec_atom_positions[~other_atoms_mask]\n",
    "    rec_atom_features = rec_atom_features[~other_atoms_mask]\n",
    "\n",
    "    return rec_atom_positions, rec_atom_features\n",
    "\n",
    "\n",
    "#function to featurize the receptor atoms\n",
    "def receptor_featurizer(element_map, rec_atoms, protein_atom_elements = None):\n",
    "\n",
    "    if rec_atoms is None and protein_atom_elements is None:\n",
    "        raise ValueError\n",
    "    \n",
    "    if protein_atom_elements is None:\n",
    "        protein_atom_elements: np.ndarray = rec_atoms.getElements()\n",
    "\n",
    "    #one-hot encode atom elements\n",
    "    onehot_elements = one_hot_encode(protein_atom_elements, element_map)\n",
    "\n",
    "    #mask \"other\" atoms\n",
    "    other_atoms_mask = torch.tensor(onehot_elements[:, -1] == 1).bool()\n",
    "\n",
    "    #remove \"other\" category from onehot_elements, assuming they are last in the one-hot encoding\n",
    "    protein_atom_features = onehot_elements[:, :-1]\n",
    "\n",
    "    return protein_atom_features, other_atoms_mask\n",
    "\n",
    "\n",
    "#function to one-hot encode all atoms of the receptor\n",
    "def one_hot_encode(atom_elements: Iterable, element_map: Dict[str, int]):\n",
    "\n",
    "    def element_to_idx(element_str, element_map=element_map):\n",
    "        try:\n",
    "            return element_map[element_str]\n",
    "        except KeyError:\n",
    "            return element_map['other']\n",
    "\n",
    "    print(element_map)\n",
    "    element_idxs = np.fromiter((element_to_idx(element) for element in atom_elements), int)\n",
    "    onehot_elements = np.zeros((element_idxs.size, len(element_map.values())))\n",
    "    onehot_elements[np.arange(element_idxs.size), element_idxs] = 1\n",
    "\n",
    "    print(onehot_elements)\n",
    "\n",
    "    return onehot_elements\n",
    "\n",
    "#function to build a graph from receptor atoms using dgl\n",
    "def build_pocket_graph(atom_positions: torch.Tensor, atom_features: torch.Tensor, k: int, edge_algorithm: str):\n",
    "\n",
    "    g = dgl.knn_graph(atom_positions, k=k, algorithm=edge_algorithm, dist='euclidean', exclude_self=True)\n",
    "    g.ndata['x_0'] = atom_positions\n",
    "    g.ndata['h_0'] = atom_features\n",
    "    return g"
   ]
  },
  {
   "cell_type": "code",
   "execution_count": 3,
   "metadata": {},
   "outputs": [],
   "source": [
    "# protein = parse_pocket('test_data/1a0iA_pocket.pdb')\n",
    "# rec_elements = protein.getElements()\n",
    "# print(rec_elements)\n",
    "\n",
    "# rec_element_map = { element: idx for idx, element in enumerate(rec_elements) }\n",
    "# rec_element_map['other'] = len(rec_elements)\n"
   ]
  },
  {
   "cell_type": "code",
   "execution_count": 5,
   "metadata": {},
   "outputs": [
    {
     "name": "stdout",
     "output_type": "stream",
     "text": [
      "['11asA']\n"
     ]
    }
   ],
   "source": [
    "#test for lists\n",
    "import os\n",
    "\n",
    "with open('../data/TOUGH-M1_positive.list') as f:\n",
    "    pos_pairs = [line.split()[:2] for line in f.readlines()]\n",
    "with open('../data/TOUGH-M1_positive.list') as f:\n",
    "    neg_pairs = [line.split()[:2] for line in f.readlines()]\n",
    "with open('../data/TOUGH-M1_pocket.list') as f:\n",
    "    pocket_list = [line.split()[:1] for line in f.readlines()]\n",
    "\n",
    "print(pocket_list[0])\n"
   ]
  },
  {
   "cell_type": "code",
   "execution_count": null,
   "metadata": {},
   "outputs": [],
   "source": []
  }
 ],
 "metadata": {
  "kernelspec": {
   "display_name": "graph",
   "language": "python",
   "name": "python3"
  },
  "language_info": {
   "codemirror_mode": {
    "name": "ipython",
    "version": 3
   },
   "file_extension": ".py",
   "mimetype": "text/x-python",
   "name": "python",
   "nbconvert_exporter": "python",
   "pygments_lexer": "ipython3",
   "version": "3.11.3"
  },
  "orig_nbformat": 4
 },
 "nbformat": 4,
 "nbformat_minor": 2
}
